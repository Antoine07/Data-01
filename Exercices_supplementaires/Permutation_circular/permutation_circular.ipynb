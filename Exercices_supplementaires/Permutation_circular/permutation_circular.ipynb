{
 "cells": [
  {
   "cell_type": "markdown",
   "metadata": {},
   "source": [
    "Permutation circulaire d'une liste l"
   ]
  },
  {
   "cell_type": "code",
   "execution_count": 7,
   "metadata": {},
   "outputs": [
    {
     "name": "stdout",
     "output_type": "stream",
     "text": [
      "[[1, 2, 3, 4, 5], [2, 3, 4, 5, 1], [3, 4, 5, 1, 2], [4, 5, 1, 2, 3], [5, 1, 2, 3, 4]]\n"
     ]
    }
   ],
   "source": [
    "l = [1,2,3,4,5]\n",
    "\n",
    "def allCircular(l):\n",
    "    \n",
    "    def cycle(m):\n",
    "        for i in range(len(m) - 1):\n",
    "            m[i], m[i+1] = m[i+1], m[i]\n",
    "\n",
    "        return m\n",
    "\n",
    "    permute = []\n",
    "    permute.append(l)\n",
    "    p = cycle(l[:])\n",
    "    while True:\n",
    "        if p in permute:\n",
    "            break\n",
    "        permute.append(p)\n",
    "        p = cycle(p[:])\n",
    "        \n",
    "    return permute\n",
    "    \n",
    "print( allCircular( [1, 2, 3, 4, 5] ) )"
   ]
  },
  {
   "cell_type": "code",
   "execution_count": 2,
   "metadata": {},
   "outputs": [
    {
     "name": "stdout",
     "output_type": "stream",
     "text": [
      "[4, 2] [4, 2]\n",
      "[7, 2] [4, 2]\n"
     ]
    }
   ],
   "source": [
    "# attention les listes partagent une même référence\n",
    "# donc si vous modifiez un\n",
    "\n",
    "l = [1,2]\n",
    "a = l\n",
    "a[0] = 4\n",
    "print(a, l)\n",
    "\n",
    "a = l[:]\n",
    "a[0] = 7\n",
    "print(a, l)\n"
   ]
  },
  {
   "cell_type": "code",
   "execution_count": null,
   "metadata": {},
   "outputs": [],
   "source": []
  }
 ],
 "metadata": {
  "kernelspec": {
   "display_name": "Python 3",
   "language": "python",
   "name": "python3"
  },
  "language_info": {
   "codemirror_mode": {
    "name": "ipython",
    "version": 3
   },
   "file_extension": ".py",
   "mimetype": "text/x-python",
   "name": "python",
   "nbconvert_exporter": "python",
   "pygments_lexer": "ipython3",
   "version": "3.5.2"
  }
 },
 "nbformat": 4,
 "nbformat_minor": 2
}
