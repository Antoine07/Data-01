{
 "cells": [
  {
   "cell_type": "markdown",
   "metadata": {},
   "source": [
    "# Structures conditionnelles if/else, if, et if/elif/else, if/elif"
   ]
  },
  {
   "cell_type": "markdown",
   "metadata": {},
   "source": [
    "# Corrections des exercices\n",
    "\n",
    "## 1. Exercice\n",
    "\n",
    "Soit une fonction devinette, fixez un nombre \"caché\" dans cette fonction, elle prend un nombre entier unique quelconque en argument et retourne un message selon si on a deviné ou pas ce nombre :\n",
    "\n",
    "- Si le nombre passé en argument de la fonction est plus grand que celui à trouver on dira : le nombre à trouver est plus petit.\n",
    "\n",
    "- Si le nombre passé en argument de la fonction est plus petit que celui à trouver on dira : le nombre à trouver est plus grand.\n",
    "\n",
    "- Si le nombre passé en argument de la fonction est égal au nombre \"caché\" dans la fonction on dira vous avez gagné !\n"
   ]
  },
  {
   "cell_type": "code",
   "execution_count": 46,
   "metadata": {},
   "outputs": [
    {
     "name": "stdout",
     "output_type": "stream",
     "text": [
      "9\n"
     ]
    }
   ],
   "source": [
    "import random\n",
    "\n",
    "# Nombre aléatoire à l'extérieur pour ne pas le recalculer\n",
    "nombre_cache = random.randint(1, 100)\n",
    "\n",
    "#print(nombre_cache)\n",
    "\n",
    "def devinette(nombre):\n",
    "    \n",
    "    if nombre > nombre_cache:\n",
    "        \n",
    "        return \"le nombre est plus petit\"\n",
    "    \n",
    "    \n",
    "    if nombre < nombre_cache:\n",
    "        \n",
    "        return \"le nombre est plus grand\"\n",
    "    \n",
    "    \"\"\"\n",
    "\n",
    "    if nombre == nombre_cache:\n",
    "        \n",
    "        return \"Bravo\"\n",
    "        \n",
    "    \"\"\"\n",
    "    \n",
    "    # deuxième solution possible\n",
    "    return \"Bravo vous avez trouvé le nombre caché\"\n",
    "\n",
    "\"\"\"\n",
    "\n",
    "Deuxième version\n",
    "\n",
    "voici les structures conditionnelles\n",
    "\n",
    "------------\n",
    "\n",
    "# traite le cas ou c'est vrai => instruction et sinon c'est faux => instruction\n",
    "\n",
    "if condition:\n",
    "    ...\n",
    "else:\n",
    "    ...\n",
    "    \n",
    "--------------  \n",
    "\n",
    "# traite le cas ou c'est vrai => instruction\n",
    "\n",
    "if condition:\n",
    "    ...\n",
    "    \n",
    "-------------------\n",
    "\n",
    "# traile le cas condition1 => instruction sinon condition2 => instruction sinon condition3 => instruction\n",
    "# et sinon => instruction\n",
    "\n",
    "if condition:\n",
    "\n",
    "    ...\n",
    "elif condition2:\n",
    "\n",
    "    ...\n",
    "elif condition3:\n",
    "    ...\n",
    "    \n",
    "else:\n",
    "    ...\n",
    "\n",
    "\"\"\"\n",
    "\n",
    "nombre_cache = 31\n",
    "\n",
    "def devinette2(nombre):\n",
    "    \n",
    "    if nombre > nombre_cache:\n",
    "        \n",
    "        return \"le nombre est plus petit\"\n",
    "    \n",
    "    elif nombre < nombre_cache:\n",
    "        \n",
    "        return \"le nombre est plus grand\"\n",
    "    else:\n",
    "        \n",
    "        return \"Bravo vous avez trouvé le nombre\"\n",
    "    \n",
    "    \n"
   ]
  },
  {
   "cell_type": "code",
   "execution_count": 14,
   "metadata": {},
   "outputs": [
    {
     "name": "stdout",
     "output_type": "stream",
     "text": [
      "le nombre est plus grand\n",
      "le nombre est plus petit\n",
      "Bravo vous avez trouvé le nombre caché\n"
     ]
    }
   ],
   "source": [
    "\n",
    "# tests de la fonction\n",
    "print(devinette2(20))\n",
    "print(devinette2(100))\n",
    "print(devinette2(31))"
   ]
  },
  {
   "cell_type": "markdown",
   "metadata": {},
   "source": [
    "## 2. Exercice\n",
    "\n",
    "Ecrire une fonction qui permet de calculer la distance de deux points A et B. Aidez-vous de la formule suivante :\n",
    "[wikipédia](https://fr.wikipedia.org/wiki/Distance_entre_deux_points_sur_le_plan_cart%C3%A9sien)\n",
    "\n",
    "Notez que cette fonction prendra 4 arguments : les deux premiers pour le premier point A et les deux suivants pour le point B. Pensez à importer le module math pour calculer la distance."
   ]
  },
  {
   "cell_type": "code",
   "execution_count": 15,
   "metadata": {},
   "outputs": [
    {
     "name": "stdout",
     "output_type": "stream",
     "text": [
      "5.830951894845301\n"
     ]
    }
   ],
   "source": [
    "# distance\n",
    "import math\n",
    "\n",
    "def distance(xa, ya, xb, yb):\n",
    "    \n",
    "    \"\"\"\n",
    "    d = math.sqrt( (xb -xa)**2 + (yb -ya)**2 )\n",
    "    \n",
    "    return d\n",
    "    \n",
    "    \"\"\"\n",
    "    \n",
    "    return math.sqrt( (xb -xa)**2 + (yb -ya)**2 )\n",
    "\n",
    "\n",
    "print( distance(1, 2, 4, 7) )\n",
    "    \n",
    "    \n",
    "    "
   ]
  },
  {
   "cell_type": "markdown",
   "metadata": {},
   "source": [
    "## 3. Exercice\n",
    "\n",
    "Dans un même module temps.py\n",
    "\n",
    "1. Créez une fonction qui transforme des secondes en minutes, cette fonction retournera des minutes et des secondes.\n",
    "\n",
    "2. Créez une fonction qui transforme des minutes en heure, cette fonction retournera des heures et des minutes.\n",
    "\n",
    "3. Creéz une fonction qui transforme des heures en jour, cette fonction retournera des jours et des heures."
   ]
  },
  {
   "cell_type": "code",
   "execution_count": 37,
   "metadata": {},
   "outputs": [
    {
     "name": "stdout",
     "output_type": "stream",
     "text": [
      "['__builtins__', '__cached__', '__doc__', '__file__', '__loader__', '__name__', '__package__', '__spec__', 'heureEnJour', 'minuteEnHeure', 'secondeEnMinute']\n",
      "\n",
      "125 secondes 2 minute(s)5 seconde(s) \n",
      "65 minutes 1 heure(s)5 minutes(s) \n",
      "25 heure(s) 1 jour(s)1 heure(s) \n"
     ]
    }
   ],
   "source": [
    "# dans un fichier temps.py\n",
    "\n",
    "# import temps\n",
    "\n",
    "# import toutes les fonctions du module\n",
    "from temps import *\n",
    "\n",
    "\"\"\"\n",
    "from math import *\n",
    "\n",
    "print(sqrt(5))\n",
    "\n",
    "\"\"\"\n",
    "\n",
    "secondes = 125\n",
    "print()\n",
    "\n",
    "# a, b = b, a\n",
    "# m, s = secondeEnMinute(secondes)\n",
    "res1 = secondeEnMinute(secondes)\n",
    "\n",
    "# Attention la fonction retourne une valeur numérique il faut transformer le type\n",
    "# en string pour pouvoir concaténé le resultat dans une chaîne de caractères\n",
    "print( str(secondes) + \" secondes \" + str(res1[0]) +\" minute(s)\" + str(res1[1]) + \" seconde(s) \" )\n",
    "\n",
    "minutes = 65\n",
    "res2 = minuteEnHeure(minutes)\n",
    "print( str(minutes) + \" minutes \" + str(res2[0]) +\" heure(s)\" + str(res2[1]) + \" minutes(s) \" )\n",
    "\n",
    "heure = 25\n",
    "res3 = heureEnJour(heure)\n",
    "print( str(heure) + \" heure(s) \" + str(res3[0]) +\" jour(s)\" + str(res3[1]) + \" heure(s) \" )\n",
    "\n"
   ]
  },
  {
   "cell_type": "markdown",
   "metadata": {},
   "source": [
    "\n",
    "## Problème\n",
    "\n",
    "Faites un programme interactif en console, ce programme prendra trois valeurs numériques et dira si ces trois valeurs sont rentrées dans l'ordre ou le désordre.\n",
    "\n",
    "```bash\n",
    "\n",
    "python ordre.py 1 5 0\n",
    "# affiche en console : c'est nombre ne sont pas rangés par ordre croissant ou décroissant\n",
    "\n",
    "```"
   ]
  },
  {
   "cell_type": "code",
   "execution_count": null,
   "metadata": {},
   "outputs": [],
   "source": [
    "from argparse import ArgumentParser\n",
    "\n",
    "# initialise le parser\n",
    "parser = ArgumentParser()\n",
    "\n",
    "parser.add_argument(dest=\"nombre1\", type=int, help=\"Premier nombre\")\n",
    "parser.add_argument(dest=\"nombre2\", type=int, help=\"Deuxième nombre\")\n",
    "parser.add_argument(dest=\"nombre3\", type=int, help=\"Troisième nombre\")\n",
    "\n",
    "# On définit une variable pour récupérer les nombres dans la console\n",
    "input_args = parser.parse_args()\n",
    "\n",
    "nombre1 = input_args.nombre1\n",
    "nombre2 = input_args.nombre2\n",
    "nombre3 = input_args.nombre3\n",
    "\n",
    "# vérifier que l'ordre est croissant donc c'est correctement rangé\n",
    "\n",
    "# 3 6 7\n",
    "\n",
    "#autre syntaxe possible possible en Python\n",
    "# if nombre1 < nombre2 < nombre3\n",
    "\n",
    "if nombre1 < nombre2  and nombre2 < nombre3:\n",
    "    \n",
    "    print(\"Les nombres sont rangés dans l'ordre croissant\")\n",
    "\n",
    "# vérifier que l'ordre est décroissant donc c'est correctement rangé\n",
    "\n",
    "#autre syntaxe possible en Python\n",
    "# if nombre1 > nombre2 > nombre3\n",
    "\n",
    "elif nombre1 > nombre2 and nombre2 > nombre3:\n",
    "    \n",
    "    print(\"Les nombres sont rangés dans l'ordre décroissant\")\n",
    "    \n",
    "else:\n",
    "    \n",
    "    print(\"Les nombres ne sont pas rangés\")\n",
    "\n",
    "# sinon c'est pas correcte\n",
    "\n"
   ]
  },
  {
   "cell_type": "code",
   "execution_count": 48,
   "metadata": {},
   "outputs": [
    {
     "name": "stdout",
     "output_type": "stream",
     "text": [
      "Ce nombre est plus grand que 12 ,100\n"
     ]
    }
   ],
   "source": [
    "nombre = 100\n",
    "\n",
    "if nombre < 10:\n",
    "    \n",
    "    print(\"ce nombre est plus petit que 10 ,\" + str(nombre))\n",
    "    \n",
    "elif nombre < 12:\n",
    "    \n",
    "    print(\"ce nombre est plus petit que 12 , \" + str(nombre))\n",
    "    \n",
    "else:\n",
    "    print(\"Ce nombre est plus grand que 12 ,\" + str(nombre))\n"
   ]
  },
  {
   "cell_type": "code",
   "execution_count": 50,
   "metadata": {},
   "outputs": [
    {
     "name": "stdout",
     "output_type": "stream",
     "text": [
      "impossible de diviser par zéro\n",
      "10.0\n"
     ]
    }
   ],
   "source": [
    "\"\"\"\n",
    "Exemple de fonction qui n'utilise qu'un seul if\n",
    "\n",
    "\"\"\"\n",
    "\n",
    "def divise(nombre, diviseur):\n",
    "    \n",
    "    if diviseur == 0:\n",
    "        \n",
    "        return \"impossible de diviser par zéro\"\n",
    "    \n",
    "    return nombre/diviseur\n",
    "\n",
    "nombre = 100\n",
    "diviseur = 0\n",
    "print(divise(nombre, diviseur))\n",
    "\n",
    "nombre = 100\n",
    "diviseur = 10\n",
    "print(divise(nombre, diviseur))\n",
    "\n",
    "    \n",
    "    "
   ]
  },
  {
   "cell_type": "markdown",
   "metadata": {},
   "source": [
    "\n",
    "## 4. Exercice \n",
    "\n",
    "Soit trois nombres entiers quelconques, écrire un script qui permet de déterminer le plus grand nombre de ces trois nombres."
   ]
  },
  {
   "cell_type": "code",
   "execution_count": 81,
   "metadata": {
    "scrolled": true
   },
   "outputs": [
    {
     "name": "stdout",
     "output_type": "stream",
     "text": [
      "la ils sont tous égaux !!! 10000\n",
      "10000\n"
     ]
    }
   ],
   "source": [
    "\n",
    "a, b, c = 10000, 10000, 10000\n",
    "\n",
    "# On fixe le premier nombre comme étant le plus grand arbitrairement\n",
    "m = a\n",
    "\n",
    "if a == b and a == c:\n",
    "    print(\"là ils sont tous égaux !!!\", m)\n",
    "\n",
    "if b > m:\n",
    "    m = b\n",
    "    \n",
    "if c > m:\n",
    "    m = c\n",
    "    \n",
    "print(m)"
   ]
  },
  {
   "cell_type": "markdown",
   "metadata": {},
   "source": [
    "## 5. Exercice **\n",
    "\n",
    "Ecrivez un programme qui détermine si un nombre entier est soit uniquement divisible par 2, soit uniquement divisible par 3, soit uniquement divisible par 5 et sinon précise qu'il ne rentre pas de ces critères."
   ]
  },
  {
   "cell_type": "code",
   "execution_count": 3,
   "metadata": {},
   "outputs": [
    {
     "name": "stdout",
     "output_type": "stream",
     "text": [
      "le nombre est uniquement divisible par 2\n",
      "ce nombre ne rentre dans aucun des critères\n"
     ]
    }
   ],
   "source": [
    "# Voir la correction de Raul sur notre slack\n",
    "\n",
    "# Première correction\n",
    "\n",
    "m = 2\n",
    "\n",
    "if m % 2 == 0 and m % 3 != 0 and m % 5 != 0:\n",
    "    print('le nombre est uniquement divisible par 2')\n",
    "    \n",
    "elif m % 3 == 0 and m % 2 != 0 and m % 5 != 0:\n",
    "    print('le nombre est uniquement divisible par 3')\n",
    "    \n",
    "elif m % 5 == 0 and m % 2 != 0 and m % 3 != 0:\n",
    "    print('le nombre est uniquement divisible par 5')\n",
    "else:\n",
    "    print('ce nombre ne rentre dans aucun des critères')\n",
    "    \n",
    "# Deuxième correction plus mathématiques\n",
    "    \n",
    "import math\n",
    "\n",
    "m = 3**3 + 1\n",
    "\n",
    "\"\"\"\n",
    "un nombre divisible par 2 uniquement est un nombre qui s'écrit 2**n avec n un nombre quelconque.\n",
    "C'est le même principe pour un nombre divisible par 3 ou 5 uniquement : 3**n et 5**n\n",
    "\n",
    "On peut dès lors utiliser la base 2,3 ou 5 pour déterminer si ce nombre est divisible uniquement par 2, 3 ou 5.\n",
    "\n",
    "math.log10(m)/math.log10(2) donnera un nombre entier si m est une puissance de 2 etc.\n",
    "\n",
    "\n",
    "\"\"\"\n",
    "\n",
    "if str( math.log10(m) /math.log10(2) ).split('.')[1] == '0' :\n",
    "    print('le nombre est uniquement divisible par 2')\n",
    "    \n",
    "elif str( math.log10(m) /math.log10(3) ).split('.')[1] == '0':\n",
    "    print('le nombre est uniquement divisible par 3')\n",
    "    \n",
    "elif str( math.log10(m) /math.log10(5) ).split('.')[1] == '0':\n",
    "    print('le nombre est uniquement divisible par 5')\n",
    "    \n",
    "else:\n",
    "    print('ce nombre ne rentre dans aucun des critères')"
   ]
  },
  {
   "cell_type": "markdown",
   "metadata": {},
   "source": [
    "## 6. Exercice\n",
    "\n",
    "Quelle est la phrase la plus longue ?\n",
    "\n",
    "p1 = \"bonjour tout le monde\"\n",
    "\n",
    "p2 = \"bonjour tout le monde!\"\n",
    "\n",
    "p3 = \"bonjour le monde\"\n",
    "\n"
   ]
  },
  {
   "cell_type": "code",
   "execution_count": 88,
   "metadata": {},
   "outputs": [
    {
     "name": "stdout",
     "output_type": "stream",
     "text": [
      "là ils sont tous égaux !!! bonjour tout le monde!\n",
      "bonjour tout le monde!\n"
     ]
    }
   ],
   "source": [
    "p1 = \"bonjour tout le monde!\"\n",
    "p2 = \"bonjour tout le monde!\"\n",
    "p3 = \"bonjour tout le monde!\"\n",
    "\n",
    "m = p1\n",
    "\n",
    "if len(p1) == len(p2) and len(p1) == len(p3):\n",
    "    print(\"là elles sont toutes égales !!!\", m)\n",
    "\n",
    "if len(p2) > len(m):\n",
    "    m = p2\n",
    "    \n",
    "if len(p3) > len(m):\n",
    "    m = p3\n",
    "\n",
    "# Affichez la plus grande phrase\n",
    "print(m)\n"
   ]
  },
  {
   "cell_type": "markdown",
   "metadata": {},
   "source": [
    "## 7. Exercice\n",
    "\n",
    "Soit une note n comprise entre 0 et 20, écrire un script qui donne la mention de la note en fonction de la valeur de la note saisie. Vous utiliserez dans votre script les mentions suivantes : non admis, passable, assez bien, bien et très bien."
   ]
  },
  {
   "cell_type": "code",
   "execution_count": 7,
   "metadata": {},
   "outputs": [
    {
     "name": "stdout",
     "output_type": "stream",
     "text": [
      "passable\n"
     ]
    }
   ],
   "source": [
    "note = 10\n",
    "\n",
    "if note >= 0 and note < 10:\n",
    "    print(\"non admis\")\n",
    "elif note >= 10 and note < 12:\n",
    "    print(\"passable\")\n",
    "elif note >= 12 and note < 14:\n",
    "    print(\"assez bien\")\n",
    "elif note >= 14 and note < 16:\n",
    "    print(\"bien\")\n",
    "elif note >= 16 and note <= 20:\n",
    "    print(\"Très bien\")\n",
    "else:\n",
    "    print(\"note non conforme...\")\n",
    "    \n"
   ]
  }
 ],
 "metadata": {
  "kernelspec": {
   "display_name": "Python 3",
   "language": "python",
   "name": "python3"
  },
  "language_info": {
   "codemirror_mode": {
    "name": "ipython",
    "version": 3
   },
   "file_extension": ".py",
   "mimetype": "text/x-python",
   "name": "python",
   "nbconvert_exporter": "python",
   "pygments_lexer": "ipython3",
   "version": "3.5.2"
  }
 },
 "nbformat": 4,
 "nbformat_minor": 2
}
