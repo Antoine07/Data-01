{
 "cells": [
  {
   "cell_type": "markdown",
   "metadata": {},
   "source": [
    "# Exercices dans un module vous allez définir les fonctions suivantes :\n",
    "\n",
    "- **isEven** : indique si un nombre est pair\n",
    "- **isOdd** : indique si un nombre est impair\n",
    "- **isALetterCode** : indique si un nombre correspond au code ASCII d'une lettre\n",
    "- **isMultiple** : indique si un nombre est le multiple d'un autre nombre\n",
    "\n",
    "indication : on appellera ce module operations.py"
   ]
  },
  {
   "cell_type": "code",
   "execution_count": null,
   "metadata": {},
   "outputs": [],
   "source": []
  }
 ],
 "metadata": {
  "kernelspec": {
   "display_name": "Python 3",
   "language": "python",
   "name": "python3"
  },
  "language_info": {
   "codemirror_mode": {
    "name": "ipython",
    "version": 3
   },
   "file_extension": ".py",
   "mimetype": "text/x-python",
   "name": "python",
   "nbconvert_exporter": "python",
   "pygments_lexer": "ipython3",
   "version": "3.5.2"
  }
 },
 "nbformat": 4,
 "nbformat_minor": 2
}
