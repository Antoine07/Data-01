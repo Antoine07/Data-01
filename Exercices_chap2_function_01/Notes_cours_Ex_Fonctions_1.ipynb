{
 "cells": [
  {
   "cell_type": "markdown",
   "metadata": {},
   "source": [
    "# Les fonctions (1ère partie)\n",
    "\n",
    "\n",
    "## Utilisation d'une fonction\n",
    "Les éléments constitutifs d'une fonction sont :\n",
    "\n",
    "- un nom\n",
    "- une liste de **paramètres** (appelée **signature** lorsqu'il y a des types)\n",
    "- un corps, la séquence d'instructions exécutée lors de l'apppel de la fonction\n",
    "- une valeur de retour (signalée par le mot clef `return`)\n",
    "\n",
    "En Python une fonction se déclare avec le mot-clef `def`.\n"
   ]
  },
  {
   "cell_type": "code",
   "execution_count": 5,
   "metadata": {},
   "outputs": [],
   "source": [
    "# Nous définissons une fonction 'diviseur', qui nous permet de savoir si un nombre (n1) divise un autre nombre (n2)\n",
    "# n1 et n2 sont les paramètres de la fonction.\n",
    "# Leur _portée_ est imitée au bloc de la fonction, ils sont indéfinis partout ailleurs.\n",
    "# N.B. les types des paramètres sont implicites, comme toujours en Python\n",
    "def diviseur (n1, n2):\n",
    "    # Début du bloc/corps de la fonction, indiqué par l'indentation __obligatoire__ du texte du code source\n",
    "    # Les séparateurs d'instruction sont optionnels et par défaut omis\n",
    "    reste = n2 % n1\n",
    "    # Dernière ligne de la fonction\n",
    "    # Aucune ligne de code placée après 'return' n'est jamais exécutée\n",
    "    return reste == 0\n",
    "\n",
    "# Appel de la fonction\n",
    "r1 = diviseur(5, 25) # True\n",
    "r2 = diviseur(4, 37) # False"
   ]
  },
  {
   "cell_type": "code",
   "execution_count": null,
   "metadata": {},
   "outputs": [],
   "source": [
    "def maFonction():\n",
    "    message = \"Bonjour ma fonction\"\n",
    "    return message"
   ]
  },
  {
   "cell_type": "markdown",
   "metadata": {},
   "source": [
    "\n",
    "**N.B.** : Une fonction peut ne pas retourner une valeur, mais c'est une bonne pratique, dans le cas général, qu'elle le fasse.\n"
   ]
  },
  {
   "cell_type": "markdown",
   "metadata": {},
   "source": [
    "\n",
    "## Les paramètres\n",
    "\n",
    "### Introduction\n",
    "\n",
    "Une fonction admet un nombre arbitraire de paramètres, éventuellement 0. A chaque paramètre (variable) sera associé un argument (valeur) lor de l'appel de fonction. Il y a **appariement** des paramètres et des arguments.\n",
    "\n",
    "Si la portée des paramètres est strictement locale les blocs sont « transparents » aux blocs englobants. Une variable définie au niveau global, par exemple, peut être utilisée dans une fonction.\n"
   ]
  },
  {
   "cell_type": "code",
   "execution_count": null,
   "metadata": {},
   "outputs": [],
   "source": [
    "a = 1\n",
    "\n",
    "def ajoute_a(b):\n",
    "    return a + b\n",
    "\n",
    "print(ajoute_a(5))"
   ]
  },
  {
   "cell_type": "markdown",
   "metadata": {},
   "source": [
    "\n",
    "Si une variable locale porte le même nom que la variable globale, elle s'y substitue.\n"
   ]
  },
  {
   "cell_type": "code",
   "execution_count": 6,
   "metadata": {
    "collapsed": true
   },
   "outputs": [
    {
     "name": "stdout",
     "output_type": "stream",
     "text": [
      "7\n",
      "1\n"
     ]
    }
   ],
   "source": [
    "a = 1\n",
    "\n",
    "def ajoute_a(b):\n",
    "    a = 2\n",
    "    return a + b\n",
    "\n",
    "print(ajoute_a(5))\n",
    "print(a)"
   ]
  },
  {
   "cell_type": "markdown",
   "metadata": {},
   "source": [
    "\n",
    "**N.B.** : Les variables globales doivent être proscrites, sauf cas particulier, car elles entraînent des sources de bugs difficiles à éradiquer. C'est un mauvais schéma de conception.\n",
    "\n",
    "### Valeurs par défaut\n",
    "\n",
    "Les paramètres des fonctions peuvent admettre une valeur par défaut, ce qui les rend optionnels lors de l'appel.\n"
   ]
  },
  {
   "cell_type": "code",
   "execution_count": 7,
   "metadata": {
    "collapsed": true
   },
   "outputs": [
    {
     "name": "stdout",
     "output_type": "stream",
     "text": [
      "6\n"
     ]
    }
   ],
   "source": [
    "def ajoute(a, b = 1):\n",
    "    return a + b\n",
    "\n",
    "print(ajoute(5))"
   ]
  },
  {
   "cell_type": "markdown",
   "metadata": {},
   "source": [
    "\n",
    "**N.B.** : Les paramètres admettant des valeurs par défaut sont nécessairement _à droite_ des autres paramètres, sans quoi l'appariement ne se fera pas correctement et Python déclenchera une erreur d'exécution.\n",
    "\n",
    "Toutefois, il reste possible de contourner ce problème grâce aux **étiquettes**. Python permet en effet d'indiquer explicitement le nom des paramètres dans l'appel de fonction. Il est donc possible d'écrire :"
   ]
  },
  {
   "cell_type": "code",
   "execution_count": 1,
   "metadata": {},
   "outputs": [
    {
     "name": "stdout",
     "output_type": "stream",
     "text": [
      "4\n"
     ]
    }
   ],
   "source": [
    "def ajoute (a = 5, b = 1):\n",
    "    return a + b\n",
    "\n",
    "print(ajoute(a = 3))"
   ]
  },
  {
   "cell_type": "markdown",
   "metadata": {},
   "source": [
    "\n",
    "### Nombre arbitraire d'arguments\n",
    "\n",
    "Il y a souvent des cas où l'on ne connaît pas _par avance_ le nombre de valeurs que la fonction aura à traiter.\n",
    "\n",
    "Dans ce cas, Python a deux ressources : `*args` et `**kwargs`\n",
    "\n",
    "1. en insérant dans la signature de la fonction un paramètre préfixé par **un** astérisque, Python collige **tous les arguments non nommés** dans un seul « paquet » (i.e. une liste) ;\n",
    "1. en insérant dans la signature de la fonction un paramètre préfixé par **deux** astérisques, Python collige **tous les arguments nommés** dans un seul « paquet » (i.e. un dictionnaire) ;\n",
    "\n",
    "Imaginons que nous voulions faire la moyenne des notes d'une classe :"
   ]
  },
  {
   "cell_type": "code",
   "execution_count": 7,
   "metadata": {},
   "outputs": [
    {
     "name": "stdout",
     "output_type": "stream",
     "text": [
      "{'etiquette': 'classe A3'}\n"
     ]
    },
    {
     "data": {
      "text/plain": [
       "13"
      ]
     },
     "execution_count": 7,
     "metadata": {},
     "output_type": "execute_result"
    }
   ],
   "source": [
    "import statistics\n",
    "\n",
    "def moyenne (*notes, **options):\n",
    "    print(options)\n",
    "    if len(notes) == 0:\n",
    "        return 0\n",
    "    elif len(notes) == 1:\n",
    "        return notes[0]\n",
    "    else:\n",
    "        return statistics.mean(notes)\n",
    "\n",
    "moyenne(15, 12, 16, 9, etiquette='classe A3')\n",
    "# moyenne(12)"
   ]
  },
  {
   "cell_type": "code",
   "execution_count": 7,
   "metadata": {},
   "outputs": [
    {
     "name": "stdout",
     "output_type": "stream",
     "text": [
      "(1, 2, 8, 10, 17, 8)\n",
      "6\n",
      "1 2\n"
     ]
    }
   ],
   "source": [
    "def myMoyenne(*notes):\n",
    "    \n",
    "    # (7,8, ...)\n",
    "    print(notes)\n",
    "    \n",
    "    print(len(notes))\n",
    "    \n",
    "    print(notes[0], notes[1])\n",
    "    \n",
    "myMoyenne(1,2, 8, 10, 17, 8)"
   ]
  },
  {
   "cell_type": "markdown",
   "metadata": {},
   "source": [
    "\n",
    "### Les fonctions comme valeurs\n",
    "\n",
    "En Python comme dans les langages dits « fonctionnels », les fonctions n'ont pas de statut particulier qui les sépareraient intrinsèquement des données/valeurs. Il est donc tout à fait possible de passer une fonction argument d'une autre fonction.\n"
   ]
  },
  {
   "cell_type": "code",
   "execution_count": 5,
   "metadata": {
    "collapsed": true
   },
   "outputs": [
    {
     "name": "stdout",
     "output_type": "stream",
     "text": [
      "-9\n"
     ]
    }
   ],
   "source": [
    "def f (x, y):\n",
    "    return (x + y) * (x - y)\n",
    "\n",
    "def g (a, b, h):\n",
    "    return h(a, b)\n",
    "\n",
    "\n",
    "print(g(4, 5, f))\n"
   ]
  },
  {
   "cell_type": "markdown",
   "metadata": {},
   "source": [
    "## Valeurs de retour\n",
    "\n",
    "La commande `return` indique quelle sera la valeur finale rendue par la fonction à la fin du calcul.\n",
    "\n",
    "Cette valeur pzut être complètement arbitraire et même, comme nousle verrons plus tard, une fonction.\n",
    "\n",
    "Lorsque Python rencontre un `return`, il sort immédiatement de la fonction pour revenir au point d'appel de cette fonction (généralement dans une autre fonction). Ceci fait que toute ligne de code écrite après un `return` ne peut jamais être exécutée.\n",
    "\n",
    "Une fonction Python n'est pas limitée à rendre une seule valeur. Par exemple :"
   ]
  },
  {
   "cell_type": "code",
   "execution_count": 6,
   "metadata": {
    "collapsed": true
   },
   "outputs": [
    {
     "name": "stdout",
     "output_type": "stream",
     "text": [
      "(2.8000000000000003, 2.456478315451963)\n"
     ]
    }
   ],
   "source": [
    "\"\"\"\n",
    "    Une fonction qui renvoie la moyenne et l'écart-type\n",
    "\"\"\"\n",
    "import statistics\n",
    "\n",
    "def description (serie):\n",
    "        moyenne = statistics.mean(serie)\n",
    "        ecart_type = statistics.stdev(serie)\n",
    "        return moyenne, ecart_type\n",
    "    \n",
    "print(description([1.2, 1.5, 8.4, 2.5, 0.9, 2.1, 4.0, 1.8]))"
   ]
  },
  {
   "cell_type": "markdown",
   "metadata": {},
   "source": [
    "\n",
    "## Documentation\n",
    "\n",
    "Nous avons vu comment mettre des commentaires de documentation à l'intérieur du code.\n",
    "\n",
    "Pour les fonctions, il est possible d'aller un peu plus loin dans la description et l'aide.\n"
   ]
  },
  {
   "cell_type": "code",
   "execution_count": 16,
   "metadata": {
    "collapsed": true
   },
   "outputs": [
    {
     "ename": "TypeError",
     "evalue": "'str' object is not callable",
     "output_type": "error",
     "traceback": [
      "\u001b[0;31m---------------------------------------------------------------------------\u001b[0m",
      "\u001b[0;31mTypeError\u001b[0m                                 Traceback (most recent call last)",
      "\u001b[0;32m<ipython-input-16-603563e9394e>\u001b[0m in \u001b[0;36m<module>\u001b[0;34m\u001b[0m\n\u001b[1;32m      2\u001b[0m \u001b[0;34m\u001b[0m\u001b[0m\n\u001b[1;32m      3\u001b[0m \u001b[0mf\u001b[0m \u001b[0;34m=\u001b[0m \u001b[0;34m'anonymous'\u001b[0m\u001b[0;34m\u001b[0m\u001b[0;34m\u001b[0m\u001b[0m\n\u001b[0;32m----> 4\u001b[0;31m \u001b[0mf\u001b[0m\u001b[0;34m(\u001b[0m\u001b[0;36m2\u001b[0m\u001b[0;34m,\u001b[0m\u001b[0;36m3\u001b[0m\u001b[0;34m)\u001b[0m\u001b[0;34m\u001b[0m\u001b[0;34m\u001b[0m\u001b[0m\n\u001b[0m",
      "\u001b[0;31mTypeError\u001b[0m: 'str' object is not callable"
     ]
    }
   ],
   "source": [
    "def add(a, b):\n",
    "    \"\"\"\n",
    "        Additionne deux nombres et rend le résultat.\n",
    " \n",
    "        :param a: Premier nombre\n",
    "        :type a: int\n",
    "        :param b: Second nombre\n",
    "        :type b: int\n",
    "        :return: La soimme des deux nombres\n",
    "        :rtype: int\n",
    " \n",
    "        :Example:\n",
    " \n",
    "        >>> add(1, 1)\n",
    "        2\n",
    "        >>> add(2.1, 3.4)  # all int compatible types work\n",
    "        5.5\n",
    " \n",
    "        .. seealso:: sub(), div(), mul()\n",
    "        .. warning:: Cette fonction n'est pas très utile.\n",
    "                     Elles est là pour la démonstration.\n",
    "        .. note:: Attention, les types ne sont là que pour la documentation :o)\n",
    "        .. todo:: A enlever du code final.\n",
    "    \"\"\"\n",
    "    return a + b"
   ]
  },
  {
   "cell_type": "markdown",
   "metadata": {},
   "source": [
    "\n",
    "Comme vous le voyez, il arrive souvent que la documentation prenne plus de place que le code. Dans cette exemple, le commentaire de documentation est structuré comme suit :\n",
    "\n",
    "1. Une description de la fonction (qui pourrait être affinée en une description courte suivie d'une description longue\n",
    "\n",
    "1. La description de la **signature** de la fonction :\n",
    "    - le mot-clef `param` est suivi du nom du paramètre ; les deux points sont suivis d'une description de ce paramètre ;\n",
    "    - le mot-celf `type` suivi du même paramètre indique quel est le type attendu\n",
    "    - le mot-celf `return` documente ce que représente la valeur rendue par la fonction\n",
    "    - le mot-clef `rtype` indique le type attendu pour la valeur de retour\n",
    "\n",
    "1. Suit une section d'exemples d'utilisation, qui commence par le mot-clef `Exemples` suivi d'une ligne vide\n",
    "\n",
    "1. Il est aussi possible d'ajouter des annotations utilse pour le lecteur :\n",
    "    - `seealso` : d'autres fonctions en relation avec celle-ci\n",
    "    - `warning` : avertissement au lecteur (souvent un autre développeur)\n",
    "    - `note`: notes diverses\n",
    "    - `todo`: une liste des choses à faire, indiquant que l'écriture de la fonction peut être améliorée\n",
    "    \n",
    "Toutes ces liges sont prises en compte par des générateurs de documentation, comme `pydoc` ou `Sphinx`."
   ]
  }
 ],
 "metadata": {
  "kernelspec": {
   "display_name": "Python 3",
   "language": "python",
   "name": "python3"
  },
  "language_info": {
   "codemirror_mode": {
    "name": "ipython",
    "version": 3
   },
   "file_extension": ".py",
   "mimetype": "text/x-python",
   "name": "python",
   "nbconvert_exporter": "python",
   "pygments_lexer": "ipython3",
   "version": "3.5.2"
  }
 },
 "nbformat": 4,
 "nbformat_minor": 2
}
